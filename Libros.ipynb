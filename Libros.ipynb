{
 "cells": [
  {
   "cell_type": "markdown",
   "id": "dc3ede93",
   "metadata": {},
   "source": [
    "<center> <img SRC=\"alfons-morales-YLSwjSy7stw-unsplash.jpg\" align=\"center\"/> </center> \n",
    "<center> <h1 style=\"color : #A0522D\"> Análisis sobre bestsellers </h1> </center>\n",
    "<center> <h2 style=\"color : #FF4500\"> Curso Visualización de Datos </h2> </center>\n",
    "<center> <h3 style=\"color : #F4A460\"> III C - 2021 </h3> </center>\n",
    "\n",
    "<p style=\"text-align: justify\"> Este es un análisis para poder identificar las características de los libros catalogados como bestsellers. </p>"
   ]
  },
  {
   "cell_type": "markdown",
   "id": "5f984848",
   "metadata": {},
   "source": [
    "<h2 style=\"color: #FF4500\"> 1.Carga y estandarización de los archivos de datos </h2>\n",
    "\n",
    "<p> ¿Qué se hace en este apartado? </p>\n",
    "\n",
    "<ol>\n",
    "    <li> Importar las librerías que se necesitan </li>\n",
    "    <li> Importar los set de datos de los CSV </li>\n",
    "    <li> Revisar los encabezados de los DataFrames </li>\n",
    "</ol>\n",
    "\n",
    "<h3 style=\"color: #F4A460\"> 1.1 Importación de librerías </h3>"
   ]
  },
  {
   "cell_type": "code",
   "execution_count": 2,
   "id": "fea99e60",
   "metadata": {},
   "outputs": [],
   "source": [
    "# se realiza la importación de las librerías necesarias para el análisis de datos.\n",
    "import pandas as pd #el manejo de los marcos de datos (dataFrames)\n",
    "import numpy as np #el manejo de estructuras de datos como listas, directorios, arrays\n",
    "import matplotlib.pyplot as plt #se utiliza para crear gráficas basadas en los datos\n",
    "import matplotlib as mplt #se utiliza para crear gráficas basadas en datos"
   ]
  },
  {
   "cell_type": "markdown",
   "id": "28a79158",
   "metadata": {},
   "source": [
    "<h3 style=\"color: #F4A460\"> 1.2 Carga de archivos de datos </h3>"
   ]
  },
  {
   "cell_type": "code",
   "execution_count": 3,
   "id": "f138b68a",
   "metadata": {},
   "outputs": [
    {
     "data": {
      "text/plain": [
       "(550, 7)"
      ]
     },
     "execution_count": 3,
     "metadata": {},
     "output_type": "execute_result"
    }
   ],
   "source": [
    "dfBestsellers=pd.read_csv(\"bestsellers with categories.csv\")\n",
    "dfBestsellers.shape"
   ]
  },
  {
   "cell_type": "code",
   "execution_count": 4,
   "id": "72c0db66",
   "metadata": {},
   "outputs": [
    {
     "data": {
      "text/html": [
       "<div>\n",
       "<style scoped>\n",
       "    .dataframe tbody tr th:only-of-type {\n",
       "        vertical-align: middle;\n",
       "    }\n",
       "\n",
       "    .dataframe tbody tr th {\n",
       "        vertical-align: top;\n",
       "    }\n",
       "\n",
       "    .dataframe thead th {\n",
       "        text-align: right;\n",
       "    }\n",
       "</style>\n",
       "<table border=\"1\" class=\"dataframe\">\n",
       "  <thead>\n",
       "    <tr style=\"text-align: right;\">\n",
       "      <th></th>\n",
       "      <th>Name</th>\n",
       "      <th>Author</th>\n",
       "      <th>User Rating</th>\n",
       "      <th>Reviews</th>\n",
       "      <th>Price</th>\n",
       "      <th>Year</th>\n",
       "      <th>Genre</th>\n",
       "    </tr>\n",
       "  </thead>\n",
       "  <tbody>\n",
       "    <tr>\n",
       "      <th>0</th>\n",
       "      <td>10-Day Green Smoothie Cleanse</td>\n",
       "      <td>JJ Smith</td>\n",
       "      <td>4.7</td>\n",
       "      <td>17350</td>\n",
       "      <td>8</td>\n",
       "      <td>2016</td>\n",
       "      <td>Non Fiction</td>\n",
       "    </tr>\n",
       "    <tr>\n",
       "      <th>1</th>\n",
       "      <td>11/22/63: A Novel</td>\n",
       "      <td>Stephen King</td>\n",
       "      <td>4.6</td>\n",
       "      <td>2052</td>\n",
       "      <td>22</td>\n",
       "      <td>2011</td>\n",
       "      <td>Fiction</td>\n",
       "    </tr>\n",
       "    <tr>\n",
       "      <th>2</th>\n",
       "      <td>12 Rules for Life: An Antidote to Chaos</td>\n",
       "      <td>Jordan B. Peterson</td>\n",
       "      <td>4.7</td>\n",
       "      <td>18979</td>\n",
       "      <td>15</td>\n",
       "      <td>2018</td>\n",
       "      <td>Non Fiction</td>\n",
       "    </tr>\n",
       "    <tr>\n",
       "      <th>3</th>\n",
       "      <td>1984 (Signet Classics)</td>\n",
       "      <td>George Orwell</td>\n",
       "      <td>4.7</td>\n",
       "      <td>21424</td>\n",
       "      <td>6</td>\n",
       "      <td>2017</td>\n",
       "      <td>Fiction</td>\n",
       "    </tr>\n",
       "    <tr>\n",
       "      <th>4</th>\n",
       "      <td>5,000 Awesome Facts (About Everything!) (Natio...</td>\n",
       "      <td>National Geographic Kids</td>\n",
       "      <td>4.8</td>\n",
       "      <td>7665</td>\n",
       "      <td>12</td>\n",
       "      <td>2019</td>\n",
       "      <td>Non Fiction</td>\n",
       "    </tr>\n",
       "  </tbody>\n",
       "</table>\n",
       "</div>"
      ],
      "text/plain": [
       "                                                Name  \\\n",
       "0                      10-Day Green Smoothie Cleanse   \n",
       "1                                  11/22/63: A Novel   \n",
       "2            12 Rules for Life: An Antidote to Chaos   \n",
       "3                             1984 (Signet Classics)   \n",
       "4  5,000 Awesome Facts (About Everything!) (Natio...   \n",
       "\n",
       "                     Author  User Rating  Reviews  Price  Year        Genre  \n",
       "0                  JJ Smith          4.7    17350      8  2016  Non Fiction  \n",
       "1              Stephen King          4.6     2052     22  2011      Fiction  \n",
       "2        Jordan B. Peterson          4.7    18979     15  2018  Non Fiction  \n",
       "3             George Orwell          4.7    21424      6  2017      Fiction  \n",
       "4  National Geographic Kids          4.8     7665     12  2019  Non Fiction  "
      ]
     },
     "execution_count": 4,
     "metadata": {},
     "output_type": "execute_result"
    }
   ],
   "source": [
    "dfBestsellers.head(5)"
   ]
  },
  {
   "cell_type": "markdown",
   "id": "60f957bd",
   "metadata": {},
   "source": [
    "<h3 style=\"color: #F4A460\"> 1.3 Revisar los encabezados </h3>"
   ]
  },
  {
   "cell_type": "code",
   "execution_count": 5,
   "id": "ca7ecc59",
   "metadata": {},
   "outputs": [
    {
     "name": "stdout",
     "output_type": "stream",
     "text": [
      "<class 'pandas.core.frame.DataFrame'>\n",
      "RangeIndex: 550 entries, 0 to 549\n",
      "Data columns (total 7 columns):\n",
      " #   Column       Non-Null Count  Dtype  \n",
      "---  ------       --------------  -----  \n",
      " 0   Name         550 non-null    object \n",
      " 1   Author       550 non-null    object \n",
      " 2   User Rating  550 non-null    float64\n",
      " 3   Reviews      550 non-null    int64  \n",
      " 4   Price        550 non-null    int64  \n",
      " 5   Year         550 non-null    int64  \n",
      " 6   Genre        550 non-null    object \n",
      "dtypes: float64(1), int64(3), object(3)\n",
      "memory usage: 30.2+ KB\n"
     ]
    }
   ],
   "source": [
    "dfBestsellers.info()"
   ]
  },
  {
   "cell_type": "code",
   "execution_count": 6,
   "id": "87e14655",
   "metadata": {},
   "outputs": [
    {
     "data": {
      "text/plain": [
       "Index(['Name', 'Author', 'User Rating', 'Reviews', 'Price', 'Year', 'Genre'], dtype='object')"
      ]
     },
     "execution_count": 6,
     "metadata": {},
     "output_type": "execute_result"
    }
   ],
   "source": [
    "dfBestsellers.columns"
   ]
  },
  {
   "cell_type": "markdown",
   "id": "5f7fcf6c",
   "metadata": {},
   "source": [
    "<h2 style=\"color: #FF4500\"> 2. Manejo de valores faltantes o perdidos </h2>\n",
    "\n",
    "<p>Que se hace en este apartado?</p>\n",
    "\n",
    "<ol>\n",
    "    <li>Indentificar como se muestran los valores faltantes y estandarizarlos (NaN)</li>\n",
    "    <li>Contar valores faltantes por variable</li>\n",
    "    <li>Analisis de imputacion de valores con la media</li>\n",
    "</ol>"
   ]
  },
  {
   "cell_type": "markdown",
   "id": "c0d0d9b4",
   "metadata": {},
   "source": [
    "<h3 style=\"color: #F4A460\"> 2.1 Identificación de valores faltantes o perdidos y estandarización </h3>"
   ]
  },
  {
   "cell_type": "code",
   "execution_count": 7,
   "id": "bfd934ed",
   "metadata": {},
   "outputs": [
    {
     "data": {
      "text/html": [
       "<div>\n",
       "<style scoped>\n",
       "    .dataframe tbody tr th:only-of-type {\n",
       "        vertical-align: middle;\n",
       "    }\n",
       "\n",
       "    .dataframe tbody tr th {\n",
       "        vertical-align: top;\n",
       "    }\n",
       "\n",
       "    .dataframe thead th {\n",
       "        text-align: right;\n",
       "    }\n",
       "</style>\n",
       "<table border=\"1\" class=\"dataframe\">\n",
       "  <thead>\n",
       "    <tr style=\"text-align: right;\">\n",
       "      <th></th>\n",
       "      <th>Name</th>\n",
       "      <th>Author</th>\n",
       "      <th>User Rating</th>\n",
       "      <th>Reviews</th>\n",
       "      <th>Price</th>\n",
       "      <th>Year</th>\n",
       "      <th>Genre</th>\n",
       "    </tr>\n",
       "  </thead>\n",
       "  <tbody>\n",
       "    <tr>\n",
       "      <th>0</th>\n",
       "      <td>10-Day Green Smoothie Cleanse</td>\n",
       "      <td>JJ Smith</td>\n",
       "      <td>4.7</td>\n",
       "      <td>17350</td>\n",
       "      <td>8</td>\n",
       "      <td>2016</td>\n",
       "      <td>Non Fiction</td>\n",
       "    </tr>\n",
       "    <tr>\n",
       "      <th>1</th>\n",
       "      <td>11/22/63: A Novel</td>\n",
       "      <td>Stephen King</td>\n",
       "      <td>4.6</td>\n",
       "      <td>2052</td>\n",
       "      <td>22</td>\n",
       "      <td>2011</td>\n",
       "      <td>Fiction</td>\n",
       "    </tr>\n",
       "    <tr>\n",
       "      <th>2</th>\n",
       "      <td>12 Rules for Life: An Antidote to Chaos</td>\n",
       "      <td>Jordan B. Peterson</td>\n",
       "      <td>4.7</td>\n",
       "      <td>18979</td>\n",
       "      <td>15</td>\n",
       "      <td>2018</td>\n",
       "      <td>Non Fiction</td>\n",
       "    </tr>\n",
       "    <tr>\n",
       "      <th>3</th>\n",
       "      <td>1984 (Signet Classics)</td>\n",
       "      <td>George Orwell</td>\n",
       "      <td>4.7</td>\n",
       "      <td>21424</td>\n",
       "      <td>6</td>\n",
       "      <td>2017</td>\n",
       "      <td>Fiction</td>\n",
       "    </tr>\n",
       "    <tr>\n",
       "      <th>4</th>\n",
       "      <td>5,000 Awesome Facts (About Everything!) (Natio...</td>\n",
       "      <td>National Geographic Kids</td>\n",
       "      <td>4.8</td>\n",
       "      <td>7665</td>\n",
       "      <td>12</td>\n",
       "      <td>2019</td>\n",
       "      <td>Non Fiction</td>\n",
       "    </tr>\n",
       "    <tr>\n",
       "      <th>...</th>\n",
       "      <td>...</td>\n",
       "      <td>...</td>\n",
       "      <td>...</td>\n",
       "      <td>...</td>\n",
       "      <td>...</td>\n",
       "      <td>...</td>\n",
       "      <td>...</td>\n",
       "    </tr>\n",
       "    <tr>\n",
       "      <th>545</th>\n",
       "      <td>Wrecking Ball (Diary of a Wimpy Kid Book 14)</td>\n",
       "      <td>Jeff Kinney</td>\n",
       "      <td>4.9</td>\n",
       "      <td>9413</td>\n",
       "      <td>8</td>\n",
       "      <td>2019</td>\n",
       "      <td>Fiction</td>\n",
       "    </tr>\n",
       "    <tr>\n",
       "      <th>546</th>\n",
       "      <td>You Are a Badass: How to Stop Doubting Your Gr...</td>\n",
       "      <td>Jen Sincero</td>\n",
       "      <td>4.7</td>\n",
       "      <td>14331</td>\n",
       "      <td>8</td>\n",
       "      <td>2016</td>\n",
       "      <td>Non Fiction</td>\n",
       "    </tr>\n",
       "    <tr>\n",
       "      <th>547</th>\n",
       "      <td>You Are a Badass: How to Stop Doubting Your Gr...</td>\n",
       "      <td>Jen Sincero</td>\n",
       "      <td>4.7</td>\n",
       "      <td>14331</td>\n",
       "      <td>8</td>\n",
       "      <td>2017</td>\n",
       "      <td>Non Fiction</td>\n",
       "    </tr>\n",
       "    <tr>\n",
       "      <th>548</th>\n",
       "      <td>You Are a Badass: How to Stop Doubting Your Gr...</td>\n",
       "      <td>Jen Sincero</td>\n",
       "      <td>4.7</td>\n",
       "      <td>14331</td>\n",
       "      <td>8</td>\n",
       "      <td>2018</td>\n",
       "      <td>Non Fiction</td>\n",
       "    </tr>\n",
       "    <tr>\n",
       "      <th>549</th>\n",
       "      <td>You Are a Badass: How to Stop Doubting Your Gr...</td>\n",
       "      <td>Jen Sincero</td>\n",
       "      <td>4.7</td>\n",
       "      <td>14331</td>\n",
       "      <td>8</td>\n",
       "      <td>2019</td>\n",
       "      <td>Non Fiction</td>\n",
       "    </tr>\n",
       "  </tbody>\n",
       "</table>\n",
       "<p>550 rows × 7 columns</p>\n",
       "</div>"
      ],
      "text/plain": [
       "                                                  Name  \\\n",
       "0                        10-Day Green Smoothie Cleanse   \n",
       "1                                    11/22/63: A Novel   \n",
       "2              12 Rules for Life: An Antidote to Chaos   \n",
       "3                               1984 (Signet Classics)   \n",
       "4    5,000 Awesome Facts (About Everything!) (Natio...   \n",
       "..                                                 ...   \n",
       "545       Wrecking Ball (Diary of a Wimpy Kid Book 14)   \n",
       "546  You Are a Badass: How to Stop Doubting Your Gr...   \n",
       "547  You Are a Badass: How to Stop Doubting Your Gr...   \n",
       "548  You Are a Badass: How to Stop Doubting Your Gr...   \n",
       "549  You Are a Badass: How to Stop Doubting Your Gr...   \n",
       "\n",
       "                       Author  User Rating  Reviews  Price  Year        Genre  \n",
       "0                    JJ Smith          4.7    17350      8  2016  Non Fiction  \n",
       "1                Stephen King          4.6     2052     22  2011      Fiction  \n",
       "2          Jordan B. Peterson          4.7    18979     15  2018  Non Fiction  \n",
       "3               George Orwell          4.7    21424      6  2017      Fiction  \n",
       "4    National Geographic Kids          4.8     7665     12  2019  Non Fiction  \n",
       "..                        ...          ...      ...    ...   ...          ...  \n",
       "545               Jeff Kinney          4.9     9413      8  2019      Fiction  \n",
       "546               Jen Sincero          4.7    14331      8  2016  Non Fiction  \n",
       "547               Jen Sincero          4.7    14331      8  2017  Non Fiction  \n",
       "548               Jen Sincero          4.7    14331      8  2018  Non Fiction  \n",
       "549               Jen Sincero          4.7    14331      8  2019  Non Fiction  \n",
       "\n",
       "[550 rows x 7 columns]"
      ]
     },
     "execution_count": 7,
     "metadata": {},
     "output_type": "execute_result"
    }
   ],
   "source": [
    "dfBestsellers"
   ]
  },
  {
   "cell_type": "markdown",
   "id": "24ae87e4",
   "metadata": {},
   "source": [
    "<p> No se muestran datos faltantes en el set de datos, por lo que no se necesita realizar una estandarización </p>"
   ]
  },
  {
   "cell_type": "code",
   "execution_count": 8,
   "id": "feb5f45b",
   "metadata": {},
   "outputs": [
    {
     "data": {
      "text/html": [
       "<div>\n",
       "<style scoped>\n",
       "    .dataframe tbody tr th:only-of-type {\n",
       "        vertical-align: middle;\n",
       "    }\n",
       "\n",
       "    .dataframe tbody tr th {\n",
       "        vertical-align: top;\n",
       "    }\n",
       "\n",
       "    .dataframe thead th {\n",
       "        text-align: right;\n",
       "    }\n",
       "</style>\n",
       "<table border=\"1\" class=\"dataframe\">\n",
       "  <thead>\n",
       "    <tr style=\"text-align: right;\">\n",
       "      <th></th>\n",
       "      <th>Name</th>\n",
       "      <th>Author</th>\n",
       "      <th>User Rating</th>\n",
       "      <th>Reviews</th>\n",
       "      <th>Price</th>\n",
       "      <th>Year</th>\n",
       "      <th>Genre</th>\n",
       "    </tr>\n",
       "  </thead>\n",
       "  <tbody>\n",
       "    <tr>\n",
       "      <th>0</th>\n",
       "      <td>10-Day Green Smoothie Cleanse</td>\n",
       "      <td>JJ Smith</td>\n",
       "      <td>4.7</td>\n",
       "      <td>17350</td>\n",
       "      <td>8</td>\n",
       "      <td>2016</td>\n",
       "      <td>Non Fiction</td>\n",
       "    </tr>\n",
       "    <tr>\n",
       "      <th>1</th>\n",
       "      <td>11/22/63: A Novel</td>\n",
       "      <td>Stephen King</td>\n",
       "      <td>4.6</td>\n",
       "      <td>2052</td>\n",
       "      <td>22</td>\n",
       "      <td>2011</td>\n",
       "      <td>Fiction</td>\n",
       "    </tr>\n",
       "    <tr>\n",
       "      <th>2</th>\n",
       "      <td>12 Rules for Life: An Antidote to Chaos</td>\n",
       "      <td>Jordan B. Peterson</td>\n",
       "      <td>4.7</td>\n",
       "      <td>18979</td>\n",
       "      <td>15</td>\n",
       "      <td>2018</td>\n",
       "      <td>Non Fiction</td>\n",
       "    </tr>\n",
       "    <tr>\n",
       "      <th>3</th>\n",
       "      <td>1984 (Signet Classics)</td>\n",
       "      <td>George Orwell</td>\n",
       "      <td>4.7</td>\n",
       "      <td>21424</td>\n",
       "      <td>6</td>\n",
       "      <td>2017</td>\n",
       "      <td>Fiction</td>\n",
       "    </tr>\n",
       "    <tr>\n",
       "      <th>4</th>\n",
       "      <td>5,000 Awesome Facts (About Everything!) (Natio...</td>\n",
       "      <td>National Geographic Kids</td>\n",
       "      <td>4.8</td>\n",
       "      <td>7665</td>\n",
       "      <td>12</td>\n",
       "      <td>2019</td>\n",
       "      <td>Non Fiction</td>\n",
       "    </tr>\n",
       "  </tbody>\n",
       "</table>\n",
       "</div>"
      ],
      "text/plain": [
       "                                                Name  \\\n",
       "0                      10-Day Green Smoothie Cleanse   \n",
       "1                                  11/22/63: A Novel   \n",
       "2            12 Rules for Life: An Antidote to Chaos   \n",
       "3                             1984 (Signet Classics)   \n",
       "4  5,000 Awesome Facts (About Everything!) (Natio...   \n",
       "\n",
       "                     Author  User Rating  Reviews  Price  Year        Genre  \n",
       "0                  JJ Smith          4.7    17350      8  2016  Non Fiction  \n",
       "1              Stephen King          4.6     2052     22  2011      Fiction  \n",
       "2        Jordan B. Peterson          4.7    18979     15  2018  Non Fiction  \n",
       "3             George Orwell          4.7    21424      6  2017      Fiction  \n",
       "4  National Geographic Kids          4.8     7665     12  2019  Non Fiction  "
      ]
     },
     "execution_count": 8,
     "metadata": {},
     "output_type": "execute_result"
    }
   ],
   "source": [
    "dfBestsellers.head(5)"
   ]
  },
  {
   "cell_type": "code",
   "execution_count": 9,
   "id": "053f0360",
   "metadata": {},
   "outputs": [
    {
     "data": {
      "text/html": [
       "<div>\n",
       "<style scoped>\n",
       "    .dataframe tbody tr th:only-of-type {\n",
       "        vertical-align: middle;\n",
       "    }\n",
       "\n",
       "    .dataframe tbody tr th {\n",
       "        vertical-align: top;\n",
       "    }\n",
       "\n",
       "    .dataframe thead th {\n",
       "        text-align: right;\n",
       "    }\n",
       "</style>\n",
       "<table border=\"1\" class=\"dataframe\">\n",
       "  <thead>\n",
       "    <tr style=\"text-align: right;\">\n",
       "      <th></th>\n",
       "      <th>Name</th>\n",
       "      <th>Author</th>\n",
       "      <th>User Rating</th>\n",
       "      <th>Reviews</th>\n",
       "      <th>Price</th>\n",
       "      <th>Year</th>\n",
       "      <th>Genre</th>\n",
       "    </tr>\n",
       "  </thead>\n",
       "  <tbody>\n",
       "    <tr>\n",
       "      <th>545</th>\n",
       "      <td>Wrecking Ball (Diary of a Wimpy Kid Book 14)</td>\n",
       "      <td>Jeff Kinney</td>\n",
       "      <td>4.9</td>\n",
       "      <td>9413</td>\n",
       "      <td>8</td>\n",
       "      <td>2019</td>\n",
       "      <td>Fiction</td>\n",
       "    </tr>\n",
       "    <tr>\n",
       "      <th>546</th>\n",
       "      <td>You Are a Badass: How to Stop Doubting Your Gr...</td>\n",
       "      <td>Jen Sincero</td>\n",
       "      <td>4.7</td>\n",
       "      <td>14331</td>\n",
       "      <td>8</td>\n",
       "      <td>2016</td>\n",
       "      <td>Non Fiction</td>\n",
       "    </tr>\n",
       "    <tr>\n",
       "      <th>547</th>\n",
       "      <td>You Are a Badass: How to Stop Doubting Your Gr...</td>\n",
       "      <td>Jen Sincero</td>\n",
       "      <td>4.7</td>\n",
       "      <td>14331</td>\n",
       "      <td>8</td>\n",
       "      <td>2017</td>\n",
       "      <td>Non Fiction</td>\n",
       "    </tr>\n",
       "    <tr>\n",
       "      <th>548</th>\n",
       "      <td>You Are a Badass: How to Stop Doubting Your Gr...</td>\n",
       "      <td>Jen Sincero</td>\n",
       "      <td>4.7</td>\n",
       "      <td>14331</td>\n",
       "      <td>8</td>\n",
       "      <td>2018</td>\n",
       "      <td>Non Fiction</td>\n",
       "    </tr>\n",
       "    <tr>\n",
       "      <th>549</th>\n",
       "      <td>You Are a Badass: How to Stop Doubting Your Gr...</td>\n",
       "      <td>Jen Sincero</td>\n",
       "      <td>4.7</td>\n",
       "      <td>14331</td>\n",
       "      <td>8</td>\n",
       "      <td>2019</td>\n",
       "      <td>Non Fiction</td>\n",
       "    </tr>\n",
       "  </tbody>\n",
       "</table>\n",
       "</div>"
      ],
      "text/plain": [
       "                                                  Name       Author  \\\n",
       "545       Wrecking Ball (Diary of a Wimpy Kid Book 14)  Jeff Kinney   \n",
       "546  You Are a Badass: How to Stop Doubting Your Gr...  Jen Sincero   \n",
       "547  You Are a Badass: How to Stop Doubting Your Gr...  Jen Sincero   \n",
       "548  You Are a Badass: How to Stop Doubting Your Gr...  Jen Sincero   \n",
       "549  You Are a Badass: How to Stop Doubting Your Gr...  Jen Sincero   \n",
       "\n",
       "     User Rating  Reviews  Price  Year        Genre  \n",
       "545          4.9     9413      8  2019      Fiction  \n",
       "546          4.7    14331      8  2016  Non Fiction  \n",
       "547          4.7    14331      8  2017  Non Fiction  \n",
       "548          4.7    14331      8  2018  Non Fiction  \n",
       "549          4.7    14331      8  2019  Non Fiction  "
      ]
     },
     "execution_count": 9,
     "metadata": {},
     "output_type": "execute_result"
    }
   ],
   "source": [
    "dfBestsellers.tail(5)"
   ]
  },
  {
   "cell_type": "markdown",
   "id": "3fa86bd1",
   "metadata": {},
   "source": [
    "<h3 style=\"color: #F4A460\"> 2.2 Contar los valores faltantes o perdidos por variable </h3>"
   ]
  },
  {
   "cell_type": "code",
   "execution_count": 11,
   "id": "fb0dc6c5",
   "metadata": {},
   "outputs": [
    {
     "data": {
      "text/html": [
       "<div>\n",
       "<style scoped>\n",
       "    .dataframe tbody tr th:only-of-type {\n",
       "        vertical-align: middle;\n",
       "    }\n",
       "\n",
       "    .dataframe tbody tr th {\n",
       "        vertical-align: top;\n",
       "    }\n",
       "\n",
       "    .dataframe thead th {\n",
       "        text-align: right;\n",
       "    }\n",
       "</style>\n",
       "<table border=\"1\" class=\"dataframe\">\n",
       "  <thead>\n",
       "    <tr style=\"text-align: right;\">\n",
       "      <th></th>\n",
       "      <th>Name</th>\n",
       "      <th>Author</th>\n",
       "      <th>User Rating</th>\n",
       "      <th>Reviews</th>\n",
       "      <th>Price</th>\n",
       "      <th>Year</th>\n",
       "      <th>Genre</th>\n",
       "    </tr>\n",
       "  </thead>\n",
       "  <tbody>\n",
       "    <tr>\n",
       "      <th>0</th>\n",
       "      <td>False</td>\n",
       "      <td>False</td>\n",
       "      <td>False</td>\n",
       "      <td>False</td>\n",
       "      <td>False</td>\n",
       "      <td>False</td>\n",
       "      <td>False</td>\n",
       "    </tr>\n",
       "    <tr>\n",
       "      <th>1</th>\n",
       "      <td>False</td>\n",
       "      <td>False</td>\n",
       "      <td>False</td>\n",
       "      <td>False</td>\n",
       "      <td>False</td>\n",
       "      <td>False</td>\n",
       "      <td>False</td>\n",
       "    </tr>\n",
       "    <tr>\n",
       "      <th>2</th>\n",
       "      <td>False</td>\n",
       "      <td>False</td>\n",
       "      <td>False</td>\n",
       "      <td>False</td>\n",
       "      <td>False</td>\n",
       "      <td>False</td>\n",
       "      <td>False</td>\n",
       "    </tr>\n",
       "    <tr>\n",
       "      <th>3</th>\n",
       "      <td>False</td>\n",
       "      <td>False</td>\n",
       "      <td>False</td>\n",
       "      <td>False</td>\n",
       "      <td>False</td>\n",
       "      <td>False</td>\n",
       "      <td>False</td>\n",
       "    </tr>\n",
       "    <tr>\n",
       "      <th>4</th>\n",
       "      <td>False</td>\n",
       "      <td>False</td>\n",
       "      <td>False</td>\n",
       "      <td>False</td>\n",
       "      <td>False</td>\n",
       "      <td>False</td>\n",
       "      <td>False</td>\n",
       "    </tr>\n",
       "  </tbody>\n",
       "</table>\n",
       "</div>"
      ],
      "text/plain": [
       "    Name  Author  User Rating  Reviews  Price   Year  Genre\n",
       "0  False   False        False    False  False  False  False\n",
       "1  False   False        False    False  False  False  False\n",
       "2  False   False        False    False  False  False  False\n",
       "3  False   False        False    False  False  False  False\n",
       "4  False   False        False    False  False  False  False"
      ]
     },
     "execution_count": 11,
     "metadata": {},
     "output_type": "execute_result"
    }
   ],
   "source": [
    "valoresPerdidos=dfBestsellers.isnull()\n",
    "valoresPerdidos.head(5)"
   ]
  },
  {
   "cell_type": "code",
   "execution_count": 12,
   "id": "53e8e2d4",
   "metadata": {},
   "outputs": [
    {
     "name": "stdout",
     "output_type": "stream",
     "text": [
      "Name\n",
      "False    550\n",
      "Name: Name, dtype: int64\n",
      "\n",
      "Author\n",
      "False    550\n",
      "Name: Author, dtype: int64\n",
      "\n",
      "User Rating\n",
      "False    550\n",
      "Name: User Rating, dtype: int64\n",
      "\n",
      "Reviews\n",
      "False    550\n",
      "Name: Reviews, dtype: int64\n",
      "\n",
      "Price\n",
      "False    550\n",
      "Name: Price, dtype: int64\n",
      "\n",
      "Year\n",
      "False    550\n",
      "Name: Year, dtype: int64\n",
      "\n",
      "Genre\n",
      "False    550\n",
      "Name: Genre, dtype: int64\n",
      "\n"
     ]
    }
   ],
   "source": [
    "for column in valoresPerdidos.columns.values.tolist():\n",
    "    print(column)\n",
    "    print(valoresPerdidos[column].value_counts())\n",
    "    print(\"\")"
   ]
  },
  {
   "cell_type": "markdown",
   "id": "ebd53ae7",
   "metadata": {},
   "source": [
    "<h3 style=\"color: #F4A460\"> 2.3 Imputar valores numéricos con la media </h3>"
   ]
  },
  {
   "cell_type": "markdown",
   "id": "a235421d",
   "metadata": {},
   "source": [
    "<p> En el caso de este set de datos, no hay valores faltantes o perdidos por lo cual no es necesario realizar una imputación de los valores. </p>"
   ]
  },
  {
   "cell_type": "markdown",
   "id": "ea912922",
   "metadata": {},
   "source": [
    "<h2 style=\"color: #FF4500\">3. Estandarizacion de los datos</h2>\n",
    "\n",
    "<p> Que se hace en este apartado? </p>\n",
    "\n",
    "<ol>\n",
    "    <li>Se verifica el dominio de la variable y se ajusta, si es necesario</li>\n",
    "    <li>Binning</li>\n",
    "</ol>\n",
    "\n",
    "<h3 style=\"color: #F4A460\">3.1 Verificacion del dominio de variables</h3>"
   ]
  },
  {
   "cell_type": "code",
   "execution_count": 15,
   "id": "b939267e",
   "metadata": {},
   "outputs": [
    {
     "data": {
      "text/html": [
       "<div>\n",
       "<style scoped>\n",
       "    .dataframe tbody tr th:only-of-type {\n",
       "        vertical-align: middle;\n",
       "    }\n",
       "\n",
       "    .dataframe tbody tr th {\n",
       "        vertical-align: top;\n",
       "    }\n",
       "\n",
       "    .dataframe thead th {\n",
       "        text-align: right;\n",
       "    }\n",
       "</style>\n",
       "<table border=\"1\" class=\"dataframe\">\n",
       "  <thead>\n",
       "    <tr style=\"text-align: right;\">\n",
       "      <th></th>\n",
       "      <th>Name</th>\n",
       "      <th>Author</th>\n",
       "      <th>User Rating</th>\n",
       "      <th>Reviews</th>\n",
       "      <th>Price</th>\n",
       "      <th>Year</th>\n",
       "      <th>Genre</th>\n",
       "    </tr>\n",
       "  </thead>\n",
       "  <tbody>\n",
       "    <tr>\n",
       "      <th>0</th>\n",
       "      <td>10-Day Green Smoothie Cleanse</td>\n",
       "      <td>JJ Smith</td>\n",
       "      <td>4.7</td>\n",
       "      <td>17350</td>\n",
       "      <td>8</td>\n",
       "      <td>2016</td>\n",
       "      <td>Non Fiction</td>\n",
       "    </tr>\n",
       "    <tr>\n",
       "      <th>1</th>\n",
       "      <td>11/22/63: A Novel</td>\n",
       "      <td>Stephen King</td>\n",
       "      <td>4.6</td>\n",
       "      <td>2052</td>\n",
       "      <td>22</td>\n",
       "      <td>2011</td>\n",
       "      <td>Fiction</td>\n",
       "    </tr>\n",
       "    <tr>\n",
       "      <th>2</th>\n",
       "      <td>12 Rules for Life: An Antidote to Chaos</td>\n",
       "      <td>Jordan B. Peterson</td>\n",
       "      <td>4.7</td>\n",
       "      <td>18979</td>\n",
       "      <td>15</td>\n",
       "      <td>2018</td>\n",
       "      <td>Non Fiction</td>\n",
       "    </tr>\n",
       "  </tbody>\n",
       "</table>\n",
       "</div>"
      ],
      "text/plain": [
       "                                      Name              Author  User Rating  \\\n",
       "0            10-Day Green Smoothie Cleanse            JJ Smith          4.7   \n",
       "1                        11/22/63: A Novel        Stephen King          4.6   \n",
       "2  12 Rules for Life: An Antidote to Chaos  Jordan B. Peterson          4.7   \n",
       "\n",
       "   Reviews  Price  Year        Genre  \n",
       "0    17350      8  2016  Non Fiction  \n",
       "1     2052     22  2011      Fiction  \n",
       "2    18979     15  2018  Non Fiction  "
      ]
     },
     "execution_count": 15,
     "metadata": {},
     "output_type": "execute_result"
    }
   ],
   "source": [
    "dfBestsellers.head(3)"
   ]
  },
  {
   "cell_type": "code",
   "execution_count": 16,
   "id": "0caa5755",
   "metadata": {},
   "outputs": [
    {
     "data": {
      "text/plain": [
       "Name            object\n",
       "Author          object\n",
       "User Rating    float64\n",
       "Reviews          int64\n",
       "Price            int64\n",
       "Year             int64\n",
       "Genre           object\n",
       "dtype: object"
      ]
     },
     "execution_count": 16,
     "metadata": {},
     "output_type": "execute_result"
    }
   ],
   "source": [
    "dfBestsellers.dtypes"
   ]
  },
  {
   "cell_type": "code",
   "execution_count": 19,
   "id": "a607b2aa",
   "metadata": {},
   "outputs": [
    {
     "data": {
      "text/plain": [
       "Name            object\n",
       "Author          object\n",
       "User Rating    float64\n",
       "Reviews          int64\n",
       "Price          float64\n",
       "Year             int64\n",
       "Genre           object\n",
       "dtype: object"
      ]
     },
     "execution_count": 19,
     "metadata": {},
     "output_type": "execute_result"
    }
   ],
   "source": [
    "dfBestsellers[[\"Price\"]] = dfBestsellers[[\"Price\"]].astype('float')\n",
    "dfBestsellers.dtypes"
   ]
  },
  {
   "cell_type": "code",
   "execution_count": 20,
   "id": "2afbbb61",
   "metadata": {},
   "outputs": [
    {
     "data": {
      "text/plain": [
       "Name            object\n",
       "Author          object\n",
       "User Rating    float64\n",
       "Reviews        float64\n",
       "Price          float64\n",
       "Year             int64\n",
       "Genre           object\n",
       "dtype: object"
      ]
     },
     "execution_count": 20,
     "metadata": {},
     "output_type": "execute_result"
    }
   ],
   "source": [
    "dfBestsellers[[\"Reviews\"]]=dfBestsellers[[\"Reviews\"]].astype('float')\n",
    "dfBestsellers.dtypes"
   ]
  },
  {
   "cell_type": "code",
   "execution_count": 21,
   "id": "c3fc468a",
   "metadata": {},
   "outputs": [
    {
     "data": {
      "text/html": [
       "<div>\n",
       "<style scoped>\n",
       "    .dataframe tbody tr th:only-of-type {\n",
       "        vertical-align: middle;\n",
       "    }\n",
       "\n",
       "    .dataframe tbody tr th {\n",
       "        vertical-align: top;\n",
       "    }\n",
       "\n",
       "    .dataframe thead th {\n",
       "        text-align: right;\n",
       "    }\n",
       "</style>\n",
       "<table border=\"1\" class=\"dataframe\">\n",
       "  <thead>\n",
       "    <tr style=\"text-align: right;\">\n",
       "      <th></th>\n",
       "      <th>Name</th>\n",
       "      <th>Author</th>\n",
       "      <th>User Rating</th>\n",
       "      <th>Reviews</th>\n",
       "      <th>Price</th>\n",
       "      <th>Year</th>\n",
       "      <th>Genre</th>\n",
       "    </tr>\n",
       "  </thead>\n",
       "  <tbody>\n",
       "    <tr>\n",
       "      <th>0</th>\n",
       "      <td>10-Day Green Smoothie Cleanse</td>\n",
       "      <td>JJ Smith</td>\n",
       "      <td>4.7</td>\n",
       "      <td>17350.0</td>\n",
       "      <td>8.0</td>\n",
       "      <td>2016</td>\n",
       "      <td>Non Fiction</td>\n",
       "    </tr>\n",
       "    <tr>\n",
       "      <th>1</th>\n",
       "      <td>11/22/63: A Novel</td>\n",
       "      <td>Stephen King</td>\n",
       "      <td>4.6</td>\n",
       "      <td>2052.0</td>\n",
       "      <td>22.0</td>\n",
       "      <td>2011</td>\n",
       "      <td>Fiction</td>\n",
       "    </tr>\n",
       "    <tr>\n",
       "      <th>2</th>\n",
       "      <td>12 Rules for Life: An Antidote to Chaos</td>\n",
       "      <td>Jordan B. Peterson</td>\n",
       "      <td>4.7</td>\n",
       "      <td>18979.0</td>\n",
       "      <td>15.0</td>\n",
       "      <td>2018</td>\n",
       "      <td>Non Fiction</td>\n",
       "    </tr>\n",
       "    <tr>\n",
       "      <th>3</th>\n",
       "      <td>1984 (Signet Classics)</td>\n",
       "      <td>George Orwell</td>\n",
       "      <td>4.7</td>\n",
       "      <td>21424.0</td>\n",
       "      <td>6.0</td>\n",
       "      <td>2017</td>\n",
       "      <td>Fiction</td>\n",
       "    </tr>\n",
       "    <tr>\n",
       "      <th>4</th>\n",
       "      <td>5,000 Awesome Facts (About Everything!) (Natio...</td>\n",
       "      <td>National Geographic Kids</td>\n",
       "      <td>4.8</td>\n",
       "      <td>7665.0</td>\n",
       "      <td>12.0</td>\n",
       "      <td>2019</td>\n",
       "      <td>Non Fiction</td>\n",
       "    </tr>\n",
       "  </tbody>\n",
       "</table>\n",
       "</div>"
      ],
      "text/plain": [
       "                                                Name  \\\n",
       "0                      10-Day Green Smoothie Cleanse   \n",
       "1                                  11/22/63: A Novel   \n",
       "2            12 Rules for Life: An Antidote to Chaos   \n",
       "3                             1984 (Signet Classics)   \n",
       "4  5,000 Awesome Facts (About Everything!) (Natio...   \n",
       "\n",
       "                     Author  User Rating  Reviews  Price  Year        Genre  \n",
       "0                  JJ Smith          4.7  17350.0    8.0  2016  Non Fiction  \n",
       "1              Stephen King          4.6   2052.0   22.0  2011      Fiction  \n",
       "2        Jordan B. Peterson          4.7  18979.0   15.0  2018  Non Fiction  \n",
       "3             George Orwell          4.7  21424.0    6.0  2017      Fiction  \n",
       "4  National Geographic Kids          4.8   7665.0   12.0  2019  Non Fiction  "
      ]
     },
     "execution_count": 21,
     "metadata": {},
     "output_type": "execute_result"
    }
   ],
   "source": [
    "dfBestsellers.head(5)"
   ]
  },
  {
   "cell_type": "markdown",
   "id": "b82e4cc1",
   "metadata": {},
   "source": [
    "<h3 style=\"color: #F4A460\">3.2 Binning</h3>"
   ]
  },
  {
   "cell_type": "code",
   "execution_count": 22,
   "id": "26cd36cf",
   "metadata": {},
   "outputs": [
    {
     "data": {
      "text/html": [
       "<div>\n",
       "<style scoped>\n",
       "    .dataframe tbody tr th:only-of-type {\n",
       "        vertical-align: middle;\n",
       "    }\n",
       "\n",
       "    .dataframe tbody tr th {\n",
       "        vertical-align: top;\n",
       "    }\n",
       "\n",
       "    .dataframe thead th {\n",
       "        text-align: right;\n",
       "    }\n",
       "</style>\n",
       "<table border=\"1\" class=\"dataframe\">\n",
       "  <thead>\n",
       "    <tr style=\"text-align: right;\">\n",
       "      <th></th>\n",
       "      <th>Name</th>\n",
       "      <th>Author</th>\n",
       "      <th>User Rating</th>\n",
       "      <th>Reviews</th>\n",
       "      <th>Price</th>\n",
       "      <th>Year</th>\n",
       "      <th>Genre</th>\n",
       "    </tr>\n",
       "  </thead>\n",
       "  <tbody>\n",
       "    <tr>\n",
       "      <th>0</th>\n",
       "      <td>10-Day Green Smoothie Cleanse</td>\n",
       "      <td>JJ Smith</td>\n",
       "      <td>4.7</td>\n",
       "      <td>17350.0</td>\n",
       "      <td>8.0</td>\n",
       "      <td>2016</td>\n",
       "      <td>Non Fiction</td>\n",
       "    </tr>\n",
       "    <tr>\n",
       "      <th>1</th>\n",
       "      <td>11/22/63: A Novel</td>\n",
       "      <td>Stephen King</td>\n",
       "      <td>4.6</td>\n",
       "      <td>2052.0</td>\n",
       "      <td>22.0</td>\n",
       "      <td>2011</td>\n",
       "      <td>Fiction</td>\n",
       "    </tr>\n",
       "    <tr>\n",
       "      <th>2</th>\n",
       "      <td>12 Rules for Life: An Antidote to Chaos</td>\n",
       "      <td>Jordan B. Peterson</td>\n",
       "      <td>4.7</td>\n",
       "      <td>18979.0</td>\n",
       "      <td>15.0</td>\n",
       "      <td>2018</td>\n",
       "      <td>Non Fiction</td>\n",
       "    </tr>\n",
       "    <tr>\n",
       "      <th>3</th>\n",
       "      <td>1984 (Signet Classics)</td>\n",
       "      <td>George Orwell</td>\n",
       "      <td>4.7</td>\n",
       "      <td>21424.0</td>\n",
       "      <td>6.0</td>\n",
       "      <td>2017</td>\n",
       "      <td>Fiction</td>\n",
       "    </tr>\n",
       "    <tr>\n",
       "      <th>4</th>\n",
       "      <td>5,000 Awesome Facts (About Everything!) (Natio...</td>\n",
       "      <td>National Geographic Kids</td>\n",
       "      <td>4.8</td>\n",
       "      <td>7665.0</td>\n",
       "      <td>12.0</td>\n",
       "      <td>2019</td>\n",
       "      <td>Non Fiction</td>\n",
       "    </tr>\n",
       "  </tbody>\n",
       "</table>\n",
       "</div>"
      ],
      "text/plain": [
       "                                                Name  \\\n",
       "0                      10-Day Green Smoothie Cleanse   \n",
       "1                                  11/22/63: A Novel   \n",
       "2            12 Rules for Life: An Antidote to Chaos   \n",
       "3                             1984 (Signet Classics)   \n",
       "4  5,000 Awesome Facts (About Everything!) (Natio...   \n",
       "\n",
       "                     Author  User Rating  Reviews  Price  Year        Genre  \n",
       "0                  JJ Smith          4.7  17350.0    8.0  2016  Non Fiction  \n",
       "1              Stephen King          4.6   2052.0   22.0  2011      Fiction  \n",
       "2        Jordan B. Peterson          4.7  18979.0   15.0  2018  Non Fiction  \n",
       "3             George Orwell          4.7  21424.0    6.0  2017      Fiction  \n",
       "4  National Geographic Kids          4.8   7665.0   12.0  2019  Non Fiction  "
      ]
     },
     "execution_count": 22,
     "metadata": {},
     "output_type": "execute_result"
    }
   ],
   "source": [
    "dfBestsellers.head(5)"
   ]
  },
  {
   "cell_type": "code",
   "execution_count": 23,
   "id": "b9a785e6",
   "metadata": {},
   "outputs": [],
   "source": [
    "dfBestsellers.dropna(subset = ['Price'],axis = 0, inplace = True)"
   ]
  },
  {
   "cell_type": "code",
   "execution_count": 24,
   "id": "ae688a3a",
   "metadata": {},
   "outputs": [],
   "source": [
    "dfBestsellers[['Price']] = dfBestsellers[[\"Price\"]].astype(\"int\", copy = True)"
   ]
  },
  {
   "cell_type": "code",
   "execution_count": 25,
   "id": "56d87d7d",
   "metadata": {},
   "outputs": [
    {
     "data": {
      "text/plain": [
       "Name            object\n",
       "Author          object\n",
       "User Rating    float64\n",
       "Reviews        float64\n",
       "Price            int32\n",
       "Year             int64\n",
       "Genre           object\n",
       "dtype: object"
      ]
     },
     "execution_count": 25,
     "metadata": {},
     "output_type": "execute_result"
    }
   ],
   "source": [
    "dfBestsellers.dtypes"
   ]
  },
  {
   "cell_type": "code",
   "execution_count": 26,
   "id": "9e0f8c56",
   "metadata": {},
   "outputs": [
    {
     "data": {
      "text/plain": [
       "array([  0.,  35.,  70., 105.])"
      ]
     },
     "execution_count": 26,
     "metadata": {},
     "output_type": "execute_result"
    }
   ],
   "source": [
    "bins = np.linspace(min(dfBestsellers[\"Price\"]), max(dfBestsellers[\"Price\"]),4)\n",
    "bins"
   ]
  },
  {
   "cell_type": "code",
   "execution_count": 27,
   "id": "a5931a2b",
   "metadata": {},
   "outputs": [
    {
     "data": {
      "text/html": [
       "<div>\n",
       "<style scoped>\n",
       "    .dataframe tbody tr th:only-of-type {\n",
       "        vertical-align: middle;\n",
       "    }\n",
       "\n",
       "    .dataframe tbody tr th {\n",
       "        vertical-align: top;\n",
       "    }\n",
       "\n",
       "    .dataframe thead th {\n",
       "        text-align: right;\n",
       "    }\n",
       "</style>\n",
       "<table border=\"1\" class=\"dataframe\">\n",
       "  <thead>\n",
       "    <tr style=\"text-align: right;\">\n",
       "      <th></th>\n",
       "      <th>Price</th>\n",
       "      <th>rangoPrice</th>\n",
       "    </tr>\n",
       "  </thead>\n",
       "  <tbody>\n",
       "    <tr>\n",
       "      <th>0</th>\n",
       "      <td>8</td>\n",
       "      <td>Bajo</td>\n",
       "    </tr>\n",
       "    <tr>\n",
       "      <th>1</th>\n",
       "      <td>22</td>\n",
       "      <td>Bajo</td>\n",
       "    </tr>\n",
       "    <tr>\n",
       "      <th>2</th>\n",
       "      <td>15</td>\n",
       "      <td>Bajo</td>\n",
       "    </tr>\n",
       "    <tr>\n",
       "      <th>3</th>\n",
       "      <td>6</td>\n",
       "      <td>Bajo</td>\n",
       "    </tr>\n",
       "    <tr>\n",
       "      <th>4</th>\n",
       "      <td>12</td>\n",
       "      <td>Bajo</td>\n",
       "    </tr>\n",
       "  </tbody>\n",
       "</table>\n",
       "</div>"
      ],
      "text/plain": [
       "   Price rangoPrice\n",
       "0      8       Bajo\n",
       "1     22       Bajo\n",
       "2     15       Bajo\n",
       "3      6       Bajo\n",
       "4     12       Bajo"
      ]
     },
     "execution_count": 27,
     "metadata": {},
     "output_type": "execute_result"
    }
   ],
   "source": [
    "grupos = ['Bajo', 'Medio', 'Alto']\n",
    "dfBestsellers[\"rangoPrice\"] = pd.cut(dfBestsellers[\"Price\"], bins, labels = grupos, include_lowest = True)\n",
    "dfBestsellers[[\"Price\", \"rangoPrice\"]].head(5)"
   ]
  },
  {
   "cell_type": "code",
   "execution_count": 29,
   "id": "aad5c221",
   "metadata": {},
   "outputs": [
    {
     "data": {
      "text/plain": [
       "Bajo     526\n",
       "Medio     21\n",
       "Alto       3\n",
       "Name: rangoPrice, dtype: int64"
      ]
     },
     "execution_count": 29,
     "metadata": {},
     "output_type": "execute_result"
    }
   ],
   "source": [
    "dfBestsellers[\"rangoPrice\"].value_counts()"
   ]
  },
  {
   "cell_type": "code",
   "execution_count": 31,
   "id": "038bb8b4",
   "metadata": {},
   "outputs": [
    {
     "data": {
      "text/plain": [
       "Text(0.5, 1.0, 'Rango de precios de los libros más vendidos')"
      ]
     },
     "execution_count": 31,
     "metadata": {},
     "output_type": "execute_result"
    },
    {
     "data": {
      "image/png": "[encoded data removed]",
      "text/plain": [
       "<Figure size 432x288 with 1 Axes>"
      ]
     },
     "metadata": {
      "needs_background": "light"
     },
     "output_type": "display_data"
    }
   ],
   "source": [
    "%matplotlib inline\n",
    "import matplotlib as plt\n",
    "from matplotlib import pyplot\n",
    "\n",
    "plt.pyplot.hist(dfBestsellers[\"rangoPrice\"])\n",
    "\n",
    "plt.pyplot.xlabel(\"Precios\")\n",
    "plt.pyplot.ylabel(\"Cantidad\")\n",
    "plt.pyplot.title(\"Rango de precios de los libros más vendidos\")"
   ]
  },
  {
   "cell_type": "code",
   "execution_count": 32,
   "id": "81ba848d",
   "metadata": {},
   "outputs": [
    {
     "data": {
      "text/html": [
       "<div>\n",
       "<style scoped>\n",
       "    .dataframe tbody tr th:only-of-type {\n",
       "        vertical-align: middle;\n",
       "    }\n",
       "\n",
       "    .dataframe tbody tr th {\n",
       "        vertical-align: top;\n",
       "    }\n",
       "\n",
       "    .dataframe thead th {\n",
       "        text-align: right;\n",
       "    }\n",
       "</style>\n",
       "<table border=\"1\" class=\"dataframe\">\n",
       "  <thead>\n",
       "    <tr style=\"text-align: right;\">\n",
       "      <th></th>\n",
       "      <th>Name</th>\n",
       "      <th>Author</th>\n",
       "      <th>User Rating</th>\n",
       "      <th>Reviews</th>\n",
       "      <th>Price</th>\n",
       "      <th>Year</th>\n",
       "      <th>Genre</th>\n",
       "      <th>rangoPrice</th>\n",
       "    </tr>\n",
       "  </thead>\n",
       "  <tbody>\n",
       "    <tr>\n",
       "      <th>0</th>\n",
       "      <td>10-Day Green Smoothie Cleanse</td>\n",
       "      <td>JJ Smith</td>\n",
       "      <td>4.7</td>\n",
       "      <td>17350.0</td>\n",
       "      <td>8</td>\n",
       "      <td>2016</td>\n",
       "      <td>Non Fiction</td>\n",
       "      <td>Bajo</td>\n",
       "    </tr>\n",
       "    <tr>\n",
       "      <th>1</th>\n",
       "      <td>11/22/63: A Novel</td>\n",
       "      <td>Stephen King</td>\n",
       "      <td>4.6</td>\n",
       "      <td>2052.0</td>\n",
       "      <td>22</td>\n",
       "      <td>2011</td>\n",
       "      <td>Fiction</td>\n",
       "      <td>Bajo</td>\n",
       "    </tr>\n",
       "    <tr>\n",
       "      <th>2</th>\n",
       "      <td>12 Rules for Life: An Antidote to Chaos</td>\n",
       "      <td>Jordan B. Peterson</td>\n",
       "      <td>4.7</td>\n",
       "      <td>18979.0</td>\n",
       "      <td>15</td>\n",
       "      <td>2018</td>\n",
       "      <td>Non Fiction</td>\n",
       "      <td>Bajo</td>\n",
       "    </tr>\n",
       "    <tr>\n",
       "      <th>3</th>\n",
       "      <td>1984 (Signet Classics)</td>\n",
       "      <td>George Orwell</td>\n",
       "      <td>4.7</td>\n",
       "      <td>21424.0</td>\n",
       "      <td>6</td>\n",
       "      <td>2017</td>\n",
       "      <td>Fiction</td>\n",
       "      <td>Bajo</td>\n",
       "    </tr>\n",
       "    <tr>\n",
       "      <th>4</th>\n",
       "      <td>5,000 Awesome Facts (About Everything!) (Natio...</td>\n",
       "      <td>National Geographic Kids</td>\n",
       "      <td>4.8</td>\n",
       "      <td>7665.0</td>\n",
       "      <td>12</td>\n",
       "      <td>2019</td>\n",
       "      <td>Non Fiction</td>\n",
       "      <td>Bajo</td>\n",
       "    </tr>\n",
       "    <tr>\n",
       "      <th>...</th>\n",
       "      <td>...</td>\n",
       "      <td>...</td>\n",
       "      <td>...</td>\n",
       "      <td>...</td>\n",
       "      <td>...</td>\n",
       "      <td>...</td>\n",
       "      <td>...</td>\n",
       "      <td>...</td>\n",
       "    </tr>\n",
       "    <tr>\n",
       "      <th>545</th>\n",
       "      <td>Wrecking Ball (Diary of a Wimpy Kid Book 14)</td>\n",
       "      <td>Jeff Kinney</td>\n",
       "      <td>4.9</td>\n",
       "      <td>9413.0</td>\n",
       "      <td>8</td>\n",
       "      <td>2019</td>\n",
       "      <td>Fiction</td>\n",
       "      <td>Bajo</td>\n",
       "    </tr>\n",
       "    <tr>\n",
       "      <th>546</th>\n",
       "      <td>You Are a Badass: How to Stop Doubting Your Gr...</td>\n",
       "      <td>Jen Sincero</td>\n",
       "      <td>4.7</td>\n",
       "      <td>14331.0</td>\n",
       "      <td>8</td>\n",
       "      <td>2016</td>\n",
       "      <td>Non Fiction</td>\n",
       "      <td>Bajo</td>\n",
       "    </tr>\n",
       "    <tr>\n",
       "      <th>547</th>\n",
       "      <td>You Are a Badass: How to Stop Doubting Your Gr...</td>\n",
       "      <td>Jen Sincero</td>\n",
       "      <td>4.7</td>\n",
       "      <td>14331.0</td>\n",
       "      <td>8</td>\n",
       "      <td>2017</td>\n",
       "      <td>Non Fiction</td>\n",
       "      <td>Bajo</td>\n",
       "    </tr>\n",
       "    <tr>\n",
       "      <th>548</th>\n",
       "      <td>You Are a Badass: How to Stop Doubting Your Gr...</td>\n",
       "      <td>Jen Sincero</td>\n",
       "      <td>4.7</td>\n",
       "      <td>14331.0</td>\n",
       "      <td>8</td>\n",
       "      <td>2018</td>\n",
       "      <td>Non Fiction</td>\n",
       "      <td>Bajo</td>\n",
       "    </tr>\n",
       "    <tr>\n",
       "      <th>549</th>\n",
       "      <td>You Are a Badass: How to Stop Doubting Your Gr...</td>\n",
       "      <td>Jen Sincero</td>\n",
       "      <td>4.7</td>\n",
       "      <td>14331.0</td>\n",
       "      <td>8</td>\n",
       "      <td>2019</td>\n",
       "      <td>Non Fiction</td>\n",
       "      <td>Bajo</td>\n",
       "    </tr>\n",
       "  </tbody>\n",
       "</table>\n",
       "<p>550 rows × 8 columns</p>\n",
       "</div>"
      ],
      "text/plain": [
       "                                                  Name  \\\n",
       "0                        10-Day Green Smoothie Cleanse   \n",
       "1                                    11/22/63: A Novel   \n",
       "2              12 Rules for Life: An Antidote to Chaos   \n",
       "3                               1984 (Signet Classics)   \n",
       "4    5,000 Awesome Facts (About Everything!) (Natio...   \n",
       "..                                                 ...   \n",
       "545       Wrecking Ball (Diary of a Wimpy Kid Book 14)   \n",
       "546  You Are a Badass: How to Stop Doubting Your Gr...   \n",
       "547  You Are a Badass: How to Stop Doubting Your Gr...   \n",
       "548  You Are a Badass: How to Stop Doubting Your Gr...   \n",
       "549  You Are a Badass: How to Stop Doubting Your Gr...   \n",
       "\n",
       "                       Author  User Rating  Reviews  Price  Year        Genre  \\\n",
       "0                    JJ Smith          4.7  17350.0      8  2016  Non Fiction   \n",
       "1                Stephen King          4.6   2052.0     22  2011      Fiction   \n",
       "2          Jordan B. Peterson          4.7  18979.0     15  2018  Non Fiction   \n",
       "3               George Orwell          4.7  21424.0      6  2017      Fiction   \n",
       "4    National Geographic Kids          4.8   7665.0     12  2019  Non Fiction   \n",
       "..                        ...          ...      ...    ...   ...          ...   \n",
       "545               Jeff Kinney          4.9   9413.0      8  2019      Fiction   \n",
       "546               Jen Sincero          4.7  14331.0      8  2016  Non Fiction   \n",
       "547               Jen Sincero          4.7  14331.0      8  2017  Non Fiction   \n",
       "548               Jen Sincero          4.7  14331.0      8  2018  Non Fiction   \n",
       "549               Jen Sincero          4.7  14331.0      8  2019  Non Fiction   \n",
       "\n",
       "    rangoPrice  \n",
       "0         Bajo  \n",
       "1         Bajo  \n",
       "2         Bajo  \n",
       "3         Bajo  \n",
       "4         Bajo  \n",
       "..         ...  \n",
       "545       Bajo  \n",
       "546       Bajo  \n",
       "547       Bajo  \n",
       "548       Bajo  \n",
       "549       Bajo  \n",
       "\n",
       "[550 rows x 8 columns]"
      ]
     },
     "execution_count": 32,
     "metadata": {},
     "output_type": "execute_result"
    }
   ],
   "source": [
    "dfBestsellers"
   ]
  },
  {
   "cell_type": "markdown",
   "id": "f9ed5391",
   "metadata": {},
   "source": [
    "<h2 style=\"color: #FF4500\"> 4. Visualización de datos </h2>\n",
    "\n",
    "\n",
    "<p>En este apartado se van a crear diferentes graficos, los cuales nos ayudan a realizar la interpretaci[on y analisis de la informacion.</p>\n",
    "\n",
    "<ol>\n",
    "   <li> Puntalmente se van a buscar dar respuesta a las preguntas de negocio que motivan el proyecto.</li>\n",
    "   <li> Disponer de un conocimiento pleno de set de datos. </li>\n",
    "    <li> Experiencia del Negocio.</li>\n",
    "</ol>\n"
   ]
  },
  {
   "cell_type": "markdown",
   "id": "4ed0f9a8",
   "metadata": {},
   "source": [
    "<h3> ¿Cuál género es más vendido? </h3>"
   ]
  },
  {
   "cell_type": "code",
   "execution_count": 35,
   "id": "792a05ed",
   "metadata": {},
   "outputs": [
    {
     "data": {
      "text/html": [
       "<div>\n",
       "<style scoped>\n",
       "    .dataframe tbody tr th:only-of-type {\n",
       "        vertical-align: middle;\n",
       "    }\n",
       "\n",
       "    .dataframe tbody tr th {\n",
       "        vertical-align: top;\n",
       "    }\n",
       "\n",
       "    .dataframe thead th {\n",
       "        text-align: right;\n",
       "    }\n",
       "</style>\n",
       "<table border=\"1\" class=\"dataframe\">\n",
       "  <thead>\n",
       "    <tr style=\"text-align: right;\">\n",
       "      <th></th>\n",
       "      <th>Name</th>\n",
       "    </tr>\n",
       "    <tr>\n",
       "      <th>Genre</th>\n",
       "      <th></th>\n",
       "    </tr>\n",
       "  </thead>\n",
       "  <tbody>\n",
       "    <tr>\n",
       "      <th>Fiction</th>\n",
       "      <td>240</td>\n",
       "    </tr>\n",
       "    <tr>\n",
       "      <th>Non Fiction</th>\n",
       "      <td>310</td>\n",
       "    </tr>\n",
       "  </tbody>\n",
       "</table>\n",
       "</div>"
      ],
      "text/plain": [
       "             Name\n",
       "Genre            \n",
       "Fiction       240\n",
       "Non Fiction   310"
      ]
     },
     "execution_count": 35,
     "metadata": {},
     "output_type": "execute_result"
    }
   ],
   "source": [
    "genero = dfBestsellers.groupby(['Genre']).count()\n",
    "genero = genero.iloc[:,:1]\n",
    "genero"
   ]
  },
  {
   "cell_type": "code",
   "execution_count": 39,
   "id": "ad9281a0",
   "metadata": {},
   "outputs": [
    {
     "data": {
      "image/png": "[encoded data removed]",
      "text/plain": [
       "<Figure size 640x480 with 1 Axes>"
      ]
     },
     "metadata": {},
     "output_type": "display_data"
    }
   ],
   "source": [
    "import matplotlib.pyplot as plt\n",
    "\n",
    "labels = 'Non Fiction', 'Fiction'\n",
    "sizes = [310, 240]\n",
    "explode = (0.1, 0) \n",
    "\n",
    "fig1, ax1 = plt.subplots()\n",
    "ax1.pie(sizes, explode=explode, labels=labels, autopct='%1.1f%%',\n",
    "        shadow=True, startangle=90)\n",
    "ax1.axis('equal') \n",
    "\n",
    "plt.show()"
   ]
  },
  {
   "cell_type": "markdown",
   "id": "fb3d3246",
   "metadata": {},
   "source": [
    "<h3> ¿Cuál autor cuenta con más libros vendidos? </h3>"
   ]
  },
  {
   "cell_type": "code",
   "execution_count": 56,
   "id": "e41d02f8",
   "metadata": {},
   "outputs": [
    {
     "data": {
      "text/html": [
       "<div>\n",
       "<style scoped>\n",
       "    .dataframe tbody tr th:only-of-type {\n",
       "        vertical-align: middle;\n",
       "    }\n",
       "\n",
       "    .dataframe tbody tr th {\n",
       "        vertical-align: top;\n",
       "    }\n",
       "\n",
       "    .dataframe thead th {\n",
       "        text-align: right;\n",
       "    }\n",
       "</style>\n",
       "<table border=\"1\" class=\"dataframe\">\n",
       "  <thead>\n",
       "    <tr style=\"text-align: right;\">\n",
       "      <th></th>\n",
       "      <th>Name</th>\n",
       "    </tr>\n",
       "    <tr>\n",
       "      <th>Author</th>\n",
       "      <th></th>\n",
       "    </tr>\n",
       "  </thead>\n",
       "  <tbody>\n",
       "    <tr>\n",
       "      <th>Abraham Verghese</th>\n",
       "      <td>2</td>\n",
       "    </tr>\n",
       "    <tr>\n",
       "      <th>Adam Gasiewski</th>\n",
       "      <td>1</td>\n",
       "    </tr>\n",
       "    <tr>\n",
       "      <th>Adam Mansbach</th>\n",
       "      <td>1</td>\n",
       "    </tr>\n",
       "    <tr>\n",
       "      <th>Adir Levy</th>\n",
       "      <td>1</td>\n",
       "    </tr>\n",
       "    <tr>\n",
       "      <th>Admiral William H. McRaven</th>\n",
       "      <td>1</td>\n",
       "    </tr>\n",
       "    <tr>\n",
       "      <th>...</th>\n",
       "      <td>...</td>\n",
       "    </tr>\n",
       "    <tr>\n",
       "      <th>Walter Isaacson</th>\n",
       "      <td>3</td>\n",
       "    </tr>\n",
       "    <tr>\n",
       "      <th>William Davis</th>\n",
       "      <td>2</td>\n",
       "    </tr>\n",
       "    <tr>\n",
       "      <th>William P. Young</th>\n",
       "      <td>2</td>\n",
       "    </tr>\n",
       "    <tr>\n",
       "      <th>Wizards RPG Team</th>\n",
       "      <td>3</td>\n",
       "    </tr>\n",
       "    <tr>\n",
       "      <th>Zhi Gang Sha</th>\n",
       "      <td>2</td>\n",
       "    </tr>\n",
       "  </tbody>\n",
       "</table>\n",
       "<p>248 rows × 1 columns</p>\n",
       "</div>"
      ],
      "text/plain": [
       "                            Name\n",
       "Author                          \n",
       "Abraham Verghese               2\n",
       "Adam Gasiewski                 1\n",
       "Adam Mansbach                  1\n",
       "Adir Levy                      1\n",
       "Admiral William H. McRaven     1\n",
       "...                          ...\n",
       "Walter Isaacson                3\n",
       "William Davis                  2\n",
       "William P. Young               2\n",
       "Wizards RPG Team               3\n",
       "Zhi Gang Sha                   2\n",
       "\n",
       "[248 rows x 1 columns]"
      ]
     },
     "execution_count": 56,
     "metadata": {},
     "output_type": "execute_result"
    }
   ],
   "source": [
    "autores = dfBestsellers.groupby(['Author']).count()\n",
    "autores = autores.iloc[:,:1]\n",
    "autores"
   ]
  },
  {
   "cell_type": "code",
   "execution_count": 61,
   "id": "ac7d1a1e",
   "metadata": {},
   "outputs": [
    {
     "data": {
      "text/plain": [
       "Jeff Kinney                           12\n",
       "Gary Chapman                          11\n",
       "Suzanne Collins                       11\n",
       "Rick Riordan                          11\n",
       "American Psychological Association    10\n",
       "Name: Author, dtype: int64"
      ]
     },
     "execution_count": 61,
     "metadata": {},
     "output_type": "execute_result"
    }
   ],
   "source": [
    "dfBestsellers['Author'].value_counts()[:5].sort_values(ascending=False)"
   ]
  },
  {
   "cell_type": "code",
   "execution_count": 82,
   "id": "59c34891",
   "metadata": {},
   "outputs": [
    {
     "data": {
      "text/plain": [
       "Text(0.5, 0.98, '¿Cuáles autores venden más libros?')"
      ]
     },
     "execution_count": 82,
     "metadata": {},
     "output_type": "execute_result"
    },
    {
     "data": {
      "image/png": "[encoded data removed]",
      "text/plain": [
       "<Figure size 640x480 with 1 Axes>"
      ]
     },
     "metadata": {},
     "output_type": "display_data"
    }
   ],
   "source": [
    "import matplotlib.pyplot as plt\n",
    "\n",
    "data = {'J. Kinney': 12, 'G. Chapman': 11, 'S. Collins': 11, 'R. Riordan': 11, 'Psych Assoc.': 10}\n",
    "names = list(data.keys())\n",
    "values = list(data.values())\n",
    "\n",
    "fig, axs = plt.subplots()\n",
    "axs.bar(names, values)\n",
    "fig.suptitle('¿Cuáles autores venden más libros?')"
   ]
  },
  {
   "cell_type": "code",
   "execution_count": null,
   "id": "7ddd1b50",
   "metadata": {},
   "outputs": [],
   "source": []
  }
 ],
 "metadata": {
  "kernelspec": {
   "display_name": "Python 3",
   "language": "python",
   "name": "python3"
  },
  "language_info": {
   "codemirror_mode": {
    "name": "ipython",
    "version": 3
   },
   "file_extension": ".py",
   "mimetype": "text/x-python",
   "name": "python",
   "nbconvert_exporter": "python",
   "pygments_lexer": "ipython3",
   "version": "3.8.8"
  }
 },
 "nbformat": 4,
 "nbformat_minor": 5
}
